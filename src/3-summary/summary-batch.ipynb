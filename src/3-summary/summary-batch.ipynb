{
 "cells": [
  {
   "cell_type": "code",
   "execution_count": 1,
   "id": "7f9d5c11-8454-4a4d-8d02-887b6b2b226f",
   "metadata": {
    "execution": {
     "iopub.execute_input": "2024-09-10T08:50:49.268077Z",
     "iopub.status.busy": "2024-09-10T08:50:49.267605Z",
     "iopub.status.idle": "2024-09-10T08:50:50.423762Z",
     "shell.execute_reply": "2024-09-10T08:50:50.423073Z",
     "shell.execute_reply.started": "2024-09-10T08:50:49.268051Z"
    }
   },
   "outputs": [],
   "source": [
    "%%capture \n",
    "%pip install python-dotenv pandas numpy"
   ]
  },
  {
   "cell_type": "code",
   "execution_count": 2,
   "id": "788dc522-0c1d-40b2-b411-d258e6c04694",
   "metadata": {
    "execution": {
     "iopub.execute_input": "2024-09-10T08:50:50.469556Z",
     "iopub.status.busy": "2024-09-10T08:50:50.469162Z",
     "iopub.status.idle": "2024-09-10T08:50:51.713307Z",
     "shell.execute_reply": "2024-09-10T08:50:51.712625Z",
     "shell.execute_reply.started": "2024-09-10T08:50:50.469491Z"
    }
   },
   "outputs": [],
   "source": [
    "%%capture\n",
    "%pip install langchain langchain-community langchain-core langchain-openai  openai"
   ]
  },
  {
   "cell_type": "code",
   "execution_count": 3,
   "id": "19d1b0a7-a1d4-4be1-92bd-f95bd1ebd696",
   "metadata": {
    "execution": {
     "iopub.execute_input": "2024-09-10T08:50:51.714983Z",
     "iopub.status.busy": "2024-09-10T08:50:51.714687Z",
     "iopub.status.idle": "2024-09-10T08:50:52.358317Z",
     "shell.execute_reply": "2024-09-10T08:50:52.357633Z",
     "shell.execute_reply.started": "2024-09-10T08:50:51.714954Z"
    }
   },
   "outputs": [
    {
     "name": "stdout",
     "output_type": "stream",
     "text": [
      "langchain                 0.2.16\n",
      "langchain-community       0.2.16\n",
      "langchain-core            0.2.38\n",
      "langchain-openai          0.1.23\n",
      "langchain-text-splitters  0.2.4\n",
      "\n",
      "\u001b[1m[\u001b[0m\u001b[34;49mnotice\u001b[0m\u001b[1;39;49m]\u001b[0m\u001b[39;49m A new release of pip is available: \u001b[0m\u001b[31;49m24.0\u001b[0m\u001b[39;49m -> \u001b[0m\u001b[32;49m24.2\u001b[0m\n",
      "\u001b[1m[\u001b[0m\u001b[34;49mnotice\u001b[0m\u001b[1;39;49m]\u001b[0m\u001b[39;49m To update, run: \u001b[0m\u001b[32;49mpip install --upgrade pip\u001b[0m\n",
      "Note: you may need to restart the kernel to use updated packages.\n"
     ]
    }
   ],
   "source": [
    "%pip list | grep langchain"
   ]
  },
  {
   "cell_type": "code",
   "execution_count": 26,
   "id": "533afebb-02be-4d87-9747-91e552f6f1c2",
   "metadata": {
    "execution": {
     "iopub.execute_input": "2024-09-10T08:32:48.383956Z",
     "iopub.status.busy": "2024-09-10T08:32:48.383400Z",
     "iopub.status.idle": "2024-09-10T08:32:49.916834Z",
     "shell.execute_reply": "2024-09-10T08:32:49.916089Z",
     "shell.execute_reply.started": "2024-09-10T08:32:48.383919Z"
    }
   },
   "outputs": [],
   "source": [
    "%%capture\n",
    "%pip install jupyterlab_execute_time"
   ]
  },
  {
   "cell_type": "code",
   "execution_count": 4,
   "id": "b9faefbb-3e55-452f-8a96-d83430e685c5",
   "metadata": {
    "execution": {
     "iopub.execute_input": "2024-09-10T08:50:55.163394Z",
     "iopub.status.busy": "2024-09-10T08:50:55.162835Z",
     "iopub.status.idle": "2024-09-10T08:50:55.169507Z",
     "shell.execute_reply": "2024-09-10T08:50:55.168041Z",
     "shell.execute_reply.started": "2024-09-10T08:50:55.163357Z"
    }
   },
   "outputs": [],
   "source": [
    "def save_string_to_file(content, filename):\n",
    "    with open(filename, 'w') as file:\n",
    "        file.write(content)"
   ]
  },
  {
   "cell_type": "code",
   "execution_count": 10,
   "id": "bd241b1e-43fb-47c8-b166-1edd4efa80b1",
   "metadata": {
    "execution": {
     "iopub.execute_input": "2024-09-10T08:54:31.994786Z",
     "iopub.status.busy": "2024-09-10T08:54:31.994437Z",
     "iopub.status.idle": "2024-09-10T08:54:32.044350Z",
     "shell.execute_reply": "2024-09-10T08:54:32.043915Z",
     "shell.execute_reply.started": "2024-09-10T08:54:31.994764Z"
    }
   },
   "outputs": [],
   "source": [
    "import dotenv\n",
    "import os\n",
    "dotenv.load_dotenv()\n",
    "api_key = os.getenv('OPENAI_API_KEY')\n",
    "\n",
    "from langchain.chains import RefineDocumentsChain, MapReduceDocumentsChain, LLMChain, ReduceDocumentsChain, StuffDocumentsChain\n",
    "from langchain.prompts import PromptTemplate\n",
    "#from langchain.chat_models import ChatOpenAI\n",
    "from langchain_openai import ChatOpenAI\n",
    "from langchain.text_splitter import RecursiveCharacterTextSplitter\n",
    "from langchain.chains.combine_documents.stuff import StuffDocumentsChain\n",
    "from langchain.schema.runnable import RunnableSequence\n",
    "from langchain.schema import StrOutputParser\n",
    "\n"
   ]
  },
  {
   "cell_type": "code",
   "execution_count": 22,
   "id": "4e40a7f1-e4c2-44a5-abe7-45d03b713764",
   "metadata": {
    "execution": {
     "iopub.execute_input": "2024-09-10T09:02:53.727346Z",
     "iopub.status.busy": "2024-09-10T09:02:53.726666Z",
     "iopub.status.idle": "2024-09-10T09:02:53.733495Z",
     "shell.execute_reply": "2024-09-10T09:02:53.731237Z",
     "shell.execute_reply.started": "2024-09-10T09:02:53.727315Z"
    }
   },
   "outputs": [],
   "source": [
    "def split_file(filepath):\n",
    "    text_splitter = RecursiveCharacterTextSplitter(chunk_size=50000, chunk_overlap=200)\n",
    "    with open(filepath, 'r') as file:\n",
    "        text = file.read()\n",
    "    docs = text_splitter.create_documents([text])\n",
    "    print(f'{filepath} docs:{len(docs)}')\n",
    "    return docs"
   ]
  },
  {
   "cell_type": "code",
   "execution_count": 12,
   "id": "bf8836b9-8a7b-435d-9c89-288623a384ed",
   "metadata": {
    "execution": {
     "iopub.execute_input": "2024-09-10T08:57:01.085710Z",
     "iopub.status.busy": "2024-09-10T08:57:01.084808Z",
     "iopub.status.idle": "2024-09-10T08:57:01.091218Z",
     "shell.execute_reply": "2024-09-10T08:57:01.090442Z",
     "shell.execute_reply.started": "2024-09-10T08:57:01.085665Z"
    }
   },
   "outputs": [],
   "source": [
    "user_command=\"\"\"\n",
    "Analysis the podcast episode from the Lex Fridman Podcast series. Summarise the key points discussed in the episode with a focus on: \n",
    "## The main arguments presented \n",
    "## Any notable quotes from the guest \n",
    "## Relevant topics or themes covered\n",
    "Ensure the summary is clear and concise, with bullet points under the specified headings\n",
    "\"\"\""
   ]
  },
  {
   "cell_type": "code",
   "execution_count": 37,
   "id": "9eee9492-56fb-4f21-a72e-e0dd56efb035",
   "metadata": {
    "execution": {
     "iopub.execute_input": "2024-09-10T09:13:08.278411Z",
     "iopub.status.busy": "2024-09-10T09:13:08.278062Z",
     "iopub.status.idle": "2024-09-10T09:13:08.358597Z",
     "shell.execute_reply": "2024-09-10T09:13:08.358213Z",
     "shell.execute_reply.started": "2024-09-10T09:13:08.278388Z"
    }
   },
   "outputs": [],
   "source": [
    "llm = ChatOpenAI(temperature=0, model_name='gpt-4o-mini')\n",
    "def summerise(docs):\n",
    "    document_prompt = PromptTemplate(input_variables=[\"page_content\"], template=\"{page_content}\")\n",
    "    initial_prompt = PromptTemplate.from_template(user_command + \": {context}\")\n",
    "    initial_chain = LLMChain(llm=llm, prompt=initial_prompt)\n",
    "    \n",
    "    refine_prompt = PromptTemplate.from_template(\n",
    "        \"Here's a summary so far: {prev_response}\\n\" +\n",
    "        \"Now refine it with this additional context: {context}\\n\" +\n",
    "        user_command\n",
    "    )\n",
    "    refine_chain = LLMChain(llm=llm, prompt=refine_prompt)\n",
    "    \n",
    "    chain = RefineDocumentsChain(\n",
    "        initial_llm_chain=initial_chain,\n",
    "        refine_llm_chain=refine_chain,\n",
    "        document_prompt=document_prompt,\n",
    "        document_variable_name=\"context\",\n",
    "        initial_response_name=\"prev_response\",\n",
    "        verbose=True\n",
    "    )\n",
    "    \n",
    "    # Generate the summary\n",
    "    summary_refine = chain.invoke(docs)\n",
    "    \n",
    "    print(f'summary: {len(summary_refine['output_text'])}')\n",
    "    return summary_refine['output_text']"
   ]
  },
  {
   "cell_type": "markdown",
   "id": "00f7abab-b900-4a9e-ba94-270161bbf338",
   "metadata": {
    "execution": {
     "iopub.execute_input": "2024-09-10T08:59:49.411733Z",
     "iopub.status.busy": "2024-09-10T08:59:49.410659Z",
     "iopub.status.idle": "2024-09-10T08:59:49.418534Z",
     "shell.execute_reply": "2024-09-10T08:59:49.417191Z",
     "shell.execute_reply.started": "2024-09-10T08:59:49.411680Z"
    }
   },
   "source": [
    "## Summerise in batch"
   ]
  },
  {
   "cell_type": "code",
   "execution_count": 39,
   "id": "2f48131d-954d-479e-96c8-a470c391c561",
   "metadata": {
    "execution": {
     "iopub.execute_input": "2024-09-10T09:14:18.998024Z",
     "iopub.status.busy": "2024-09-10T09:14:18.996038Z",
     "iopub.status.idle": "2024-09-10T09:17:24.088613Z",
     "shell.execute_reply": "2024-09-10T09:17:24.087312Z",
     "shell.execute_reply.started": "2024-09-10T09:14:18.997950Z"
    }
   },
   "outputs": [
    {
     "name": "stdout",
     "output_type": "stream",
     "text": [
      "walter_isaacson_transcript.txt\n",
      "../1-raw/transcripts-podcast/walter_isaacson_transcript.txt: 3\n",
      "\n",
      "\n",
      "\u001b[1m> Entering new RefineDocumentsChain chain...\u001b[0m\n",
      "\n",
      "\u001b[1m> Finished chain.\u001b[0m\n",
      "summary: 2928\n",
      "bassem_youssef_transcript.txt\n",
      "../1-raw/transcripts-podcast/bassem_youssef_transcript.txt: 4\n",
      "\n",
      "\n",
      "\u001b[1m> Entering new RefineDocumentsChain chain...\u001b[0m\n",
      "\n",
      "\u001b[1m> Finished chain.\u001b[0m\n",
      "summary: 3258\n",
      "jared_kushner_transcript.txt\n",
      "../1-raw/transcripts-podcast/jared_kushner_transcript.txt: 6\n",
      "\n",
      "\n",
      "\u001b[1m> Entering new RefineDocumentsChain chain...\u001b[0m\n",
      "\n",
      "\u001b[1m> Finished chain.\u001b[0m\n",
      "summary: 3378\n",
      "george_hotz_3_transcript.txt\n",
      "../1-raw/transcripts-podcast/george_hotz_3_transcript.txt: 6\n",
      "\n",
      "\n",
      "\u001b[1m> Entering new RefineDocumentsChain chain...\u001b[0m\n",
      "\n",
      "\u001b[1m> Finished chain.\u001b[0m\n",
      "summary: 3953\n",
      "james_sexton_transcript.txt\n",
      "../1-raw/transcripts-podcast/james_sexton_transcript.txt: 5\n",
      "\n",
      "\n",
      "\u001b[1m> Entering new RefineDocumentsChain chain...\u001b[0m\n",
      "\n",
      "\u001b[1m> Finished chain.\u001b[0m\n",
      "summary: 3519\n"
     ]
    }
   ],
   "source": [
    "folder_path = \"../1-raw/transcripts-podcast/\"\n",
    "\n",
    "# Iterate through all files in the folder\n",
    "for filename in os.listdir(folder_path)[:5]:\n",
    "    file_path = os.path.join(folder_path, filename)\n",
    "    print(filename)\n",
    "\n",
    "    # invoke the summary\n",
    "    docs=split_file(file_path)\n",
    "    summary=summerise(docs)\n",
    "\n",
    "    # save to file\n",
    "    summary_filename=filename.replace('.txt','_summary.md')\n",
    "    save_string_to_file(summary, f\"./{summary_filename}.md\")"
   ]
  },
  {
   "cell_type": "code",
   "execution_count": null,
   "id": "16a9a949-9eb1-4c3d-baae-5e15f41994a6",
   "metadata": {},
   "outputs": [],
   "source": []
  },
  {
   "cell_type": "raw",
   "id": "ec2ada8f-db3c-4b58-9d94-02d3ede3cfae",
   "metadata": {},
   "source": []
  }
 ],
 "metadata": {
  "kernelspec": {
   "display_name": "venv",
   "language": "python",
   "name": "venv"
  },
  "language_info": {
   "codemirror_mode": {
    "name": "ipython",
    "version": 3
   },
   "file_extension": ".py",
   "mimetype": "text/x-python",
   "name": "python",
   "nbconvert_exporter": "python",
   "pygments_lexer": "ipython3",
   "version": "3.12.4"
  }
 },
 "nbformat": 4,
 "nbformat_minor": 5
}
