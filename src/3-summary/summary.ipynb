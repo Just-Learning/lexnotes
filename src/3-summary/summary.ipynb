{
 "cells": [
  {
   "cell_type": "code",
   "execution_count": 24,
   "id": "7f9d5c11-8454-4a4d-8d02-887b6b2b226f",
   "metadata": {
    "execution": {
     "iopub.execute_input": "2024-09-10T08:32:45.474563Z",
     "iopub.status.busy": "2024-09-10T08:32:45.474229Z",
     "iopub.status.idle": "2024-09-10T08:32:46.672256Z",
     "shell.execute_reply": "2024-09-10T08:32:46.671555Z",
     "shell.execute_reply.started": "2024-09-10T08:32:45.474540Z"
    }
   },
   "outputs": [],
   "source": [
    "%%capture \n",
    "%pip install python-dotenv pandas numpy"
   ]
  },
  {
   "cell_type": "code",
   "execution_count": 2,
   "id": "788dc522-0c1d-40b2-b411-d258e6c04694",
   "metadata": {
    "execution": {
     "iopub.execute_input": "2024-09-10T08:16:20.193159Z",
     "iopub.status.busy": "2024-09-10T08:16:20.192768Z",
     "iopub.status.idle": "2024-09-10T08:16:21.349282Z",
     "shell.execute_reply": "2024-09-10T08:16:21.348590Z",
     "shell.execute_reply.started": "2024-09-10T08:16:20.193132Z"
    }
   },
   "outputs": [],
   "source": [
    "%%capture\n",
    "%pip install langchain langchain-community langchain-core langchain-openai  openai"
   ]
  },
  {
   "cell_type": "code",
   "execution_count": 25,
   "id": "19d1b0a7-a1d4-4be1-92bd-f95bd1ebd696",
   "metadata": {
    "execution": {
     "iopub.execute_input": "2024-09-10T08:32:46.674161Z",
     "iopub.status.busy": "2024-09-10T08:32:46.673875Z",
     "iopub.status.idle": "2024-09-10T08:32:47.308486Z",
     "shell.execute_reply": "2024-09-10T08:32:47.307878Z",
     "shell.execute_reply.started": "2024-09-10T08:32:46.674134Z"
    }
   },
   "outputs": [
    {
     "name": "stdout",
     "output_type": "stream",
     "text": [
      "langchain                 0.2.16\n",
      "langchain-community       0.2.16\n",
      "langchain-core            0.2.38\n",
      "langchain-openai          0.1.23\n",
      "langchain-text-splitters  0.2.4\n",
      "\n",
      "\u001b[1m[\u001b[0m\u001b[34;49mnotice\u001b[0m\u001b[1;39;49m]\u001b[0m\u001b[39;49m A new release of pip is available: \u001b[0m\u001b[31;49m24.0\u001b[0m\u001b[39;49m -> \u001b[0m\u001b[32;49m24.2\u001b[0m\n",
      "\u001b[1m[\u001b[0m\u001b[34;49mnotice\u001b[0m\u001b[1;39;49m]\u001b[0m\u001b[39;49m To update, run: \u001b[0m\u001b[32;49mpip install --upgrade pip\u001b[0m\n",
      "Note: you may need to restart the kernel to use updated packages.\n"
     ]
    }
   ],
   "source": [
    "%pip list | grep langchain"
   ]
  },
  {
   "cell_type": "code",
   "execution_count": 26,
   "id": "533afebb-02be-4d87-9747-91e552f6f1c2",
   "metadata": {
    "execution": {
     "iopub.execute_input": "2024-09-10T08:32:48.383956Z",
     "iopub.status.busy": "2024-09-10T08:32:48.383400Z",
     "iopub.status.idle": "2024-09-10T08:32:49.916834Z",
     "shell.execute_reply": "2024-09-10T08:32:49.916089Z",
     "shell.execute_reply.started": "2024-09-10T08:32:48.383919Z"
    }
   },
   "outputs": [],
   "source": [
    "%%capture\n",
    "%pip install jupyterlab_execute_time"
   ]
  },
  {
   "cell_type": "code",
   "execution_count": 27,
   "id": "b9faefbb-3e55-452f-8a96-d83430e685c5",
   "metadata": {
    "execution": {
     "iopub.execute_input": "2024-09-10T08:32:49.918952Z",
     "iopub.status.busy": "2024-09-10T08:32:49.918516Z",
     "iopub.status.idle": "2024-09-10T08:32:49.928026Z",
     "shell.execute_reply": "2024-09-10T08:32:49.927032Z",
     "shell.execute_reply.started": "2024-09-10T08:32:49.918919Z"
    }
   },
   "outputs": [],
   "source": [
    "def save_string_to_file(content, filename):\n",
    "    with open(filename, 'w') as file:\n",
    "        file.write(content)"
   ]
  },
  {
   "cell_type": "code",
   "execution_count": 19,
   "id": "bd241b1e-43fb-47c8-b166-1edd4efa80b1",
   "metadata": {
    "execution": {
     "iopub.execute_input": "2024-09-10T08:22:59.049358Z",
     "iopub.status.busy": "2024-09-10T08:22:59.048921Z",
     "iopub.status.idle": "2024-09-10T08:22:59.058704Z",
     "shell.execute_reply": "2024-09-10T08:22:59.057820Z",
     "shell.execute_reply.started": "2024-09-10T08:22:59.049331Z"
    }
   },
   "outputs": [],
   "source": [
    "import dotenv\n",
    "import os\n",
    "dotenv.load_dotenv()\n",
    "api_key = os.getenv('OPENAI_API_KEY')\n",
    "\n",
    "from langchain.chains import RefineDocumentsChain, MapReduceDocumentsChain, LLMChain, ReduceDocumentsChain, StuffDocumentsChain\n",
    "from langchain.prompts import PromptTemplate\n",
    "#from langchain.chat_models import ChatOpenAI\n",
    "from langchain_openai import ChatOpenAI\n",
    "from langchain.text_splitter import RecursiveCharacterTextSplitter\n",
    "from langchain.chains.combine_documents.stuff import StuffDocumentsChain\n",
    "from langchain.schema.runnable import RunnableSequence\n",
    "from langchain.schema import StrOutputParser"
   ]
  },
  {
   "cell_type": "code",
   "execution_count": 28,
   "id": "1cb01bbe-d3f9-43a3-93a3-9bcb1fce0e81",
   "metadata": {
    "execution": {
     "iopub.execute_input": "2024-09-10T08:32:51.491522Z",
     "iopub.status.busy": "2024-09-10T08:32:51.490959Z",
     "iopub.status.idle": "2024-09-10T08:32:51.534954Z",
     "shell.execute_reply": "2024-09-10T08:32:51.534538Z",
     "shell.execute_reply.started": "2024-09-10T08:32:51.491499Z"
    }
   },
   "outputs": [
    {
     "name": "stdout",
     "output_type": "stream",
     "text": [
      "6\n"
     ]
    }
   ],
   "source": [
    "# Initialize the LLM\n",
    "llm = ChatOpenAI(temperature=0, model_name='gpt-4o-mini')\n",
    "\n",
    "# Create text splitter\n",
    "text_splitter = RecursiveCharacterTextSplitter(chunk_size=50000, chunk_overlap=200)\n",
    "\n",
    "# Split your text into chunks\n",
    "with open('../1-raw/transcripts-podcast/andrew_callaghan_transcript.txt', 'r') as file:\n",
    "    text = file.read()\n",
    "docs = text_splitter.create_documents([text])\n",
    "\n",
    "print(len(docs))"
   ]
  },
  {
   "cell_type": "code",
   "execution_count": 29,
   "id": "bf8836b9-8a7b-435d-9c89-288623a384ed",
   "metadata": {
    "execution": {
     "iopub.execute_input": "2024-09-10T08:32:54.120938Z",
     "iopub.status.busy": "2024-09-10T08:32:54.120489Z",
     "iopub.status.idle": "2024-09-10T08:32:54.126554Z",
     "shell.execute_reply": "2024-09-10T08:32:54.124979Z",
     "shell.execute_reply.started": "2024-09-10T08:32:54.120909Z"
    }
   },
   "outputs": [],
   "source": [
    "# User command\n",
    "user_command=\"\"\"\n",
    "Analysis the podcast episode from the Lex Fridman Podcast series. Summarise the key points discussed in the episode with a focus on: \n",
    "## The main arguments presented \n",
    "## Any notable quotes from the guest \n",
    "## Relevant topics or themes covered\n",
    "Ensure the summary is clear and concise, with bullet points under the specified headings\n",
    "\"\"\""
   ]
  },
  {
   "cell_type": "markdown",
   "id": "1735075e-9f27-4b67-a041-3ca9a1342759",
   "metadata": {},
   "source": [
    "## RefineDocumentsChain"
   ]
  },
  {
   "cell_type": "code",
   "execution_count": 32,
   "id": "fa5a6d2a-df95-45a3-b80c-dd9dd3b2b637",
   "metadata": {
    "execution": {
     "iopub.execute_input": "2024-09-10T08:38:01.695911Z",
     "iopub.status.busy": "2024-09-10T08:38:01.692201Z",
     "iopub.status.idle": "2024-09-10T08:38:43.932374Z",
     "shell.execute_reply": "2024-09-10T08:38:43.931155Z",
     "shell.execute_reply.started": "2024-09-10T08:38:01.695827Z"
    }
   },
   "outputs": [
    {
     "name": "stdout",
     "output_type": "stream",
     "text": [
      "\n",
      "\n",
      "\u001b[1m> Entering new RefineDocumentsChain chain...\u001b[0m\n",
      "\n",
      "\u001b[1m> Finished chain.\u001b[0m\n",
      "# Summary of Lex Fridman Podcast Episode with Andrew Callaghan\n",
      "\n",
      "## The Main Arguments Presented\n",
      "- **Exploration of Extremes**: Callaghan emphasizes the importance of engaging with marginalized communities and fringe perspectives to understand diverse realities.\n",
      "- **Impact of Fame**: He discusses the dual nature of fame, describing it as both a blessing and a curse that can distort one's perception of reality.\n",
      "- **Mental Health and Substance Use**: Callaghan shares his experiences with hallucinogen persisting perception disorder (HPPD) and how it has influenced his mental health, leading to substance use as a coping mechanism.\n",
      "- **Value of Journalism**: He highlights journalism's role in connecting with different realities and amplifying voices often overlooked by mainstream media.\n",
      "- **Human Connection**: Callaghan reflects on the kindness he has encountered from marginalized individuals during his hitchhiking journeys, contrasting it with societal expectations.\n",
      "- **Cultural Commentary**: He discusses the influence of social media on public perception and the evolving landscape of journalism, particularly in relation to events like the January 6th insurrection and the rise of QAnon.\n",
      "- **Inherent Goodness of People**: Callaghan believes that most people are fundamentally good, motivated by self-interest but with positive intentions, and that misunderstandings arise from differing perspectives on achieving common goals.\n",
      "- **Listening as a Solution**: He advocates for listening to others as a means to heal misunderstandings and foster connection.\n",
      "\n",
      "## Notable Quotes from the Guest\n",
      "- \"Being a journalist gives you a ticket to everywhere that you want to go in life.\"\n",
      "- \"If you spend more than a hundred bucks on sunglasses, you've officially gone off the deep end.\"\n",
      "- \"The American public is just so kind overall. They're so embracing depending on who you are.\"\n",
      "- \"Breaking that shame cycle has to come first.\"\n",
      "- \"I didn't make journalism to become famous, I made it to give people a platform to share their stories.\"\n",
      "- \"Most people think they're doing the best thing for the world... I think generally good, but the energy to stand up for what's right, not sure about that.\"\n",
      "- \"Listening... is the only option we have.\"\n",
      "\n",
      "## Relevant Topics or Themes Covered\n",
      "- **Personal Journey**: Callaghan shares anecdotes from his hitchhiking experiences across the U.S., highlighting both humorous and challenging moments that shaped his worldview.\n",
      "- **Mental Health**: The discussion includes the complexities of living with HPPD and depersonalization disorder.\n",
      "- **Political Climate**: The episode addresses polarization during the COVID-19 pandemic, the January 6th insurrection, and Callaghan's experiences covering these events.\n",
      "- **QAnon and Conspiracy Theories**: He discusses the psychological effects of conspiracy beliefs and the rapid rise of QAnon.\n",
      "- **Fame and Its Consequences**: Callaghan reflects on how fame has changed his life, including the loss of anonymity and navigating new social dynamics.\n",
      "- **Challenges of Helping the Homeless**: He discusses the complexities surrounding homelessness and the need for deeper understanding and support.\n",
      "- **Local vs. National Politics**: Callaghan expresses a preference for focusing on local politics, emphasizing the tangible impact individuals can have in their communities compared to national elections.\n",
      "- **Accountability and Consent**: He addresses past allegations against him, discussing the importance of accountability and understanding power dynamics in relationships.\n"
     ]
    }
   ],
   "source": [
    "# Define prompts\n",
    "document_prompt = PromptTemplate(input_variables=[\"page_content\"], template=\"{page_content}\")\n",
    "initial_prompt = PromptTemplate.from_template(user_command + \": {context}\")\n",
    "initial_chain = LLMChain(llm=llm, prompt=initial_prompt)\n",
    "\n",
    "refine_prompt = PromptTemplate.from_template(\n",
    "    \"Here's a summary so far: {prev_response}\\n\" +\n",
    "    \"Now refine it with this additional context: {context}\\n\" +\n",
    "    user_command\n",
    ")\n",
    "refine_chain = LLMChain(llm=llm, prompt=refine_prompt)\n",
    "\n",
    "# Create the RefineDocumentsChain\n",
    "chain = RefineDocumentsChain(\n",
    "    initial_llm_chain=initial_chain,\n",
    "    refine_llm_chain=refine_chain,\n",
    "    document_prompt=document_prompt,\n",
    "    document_variable_name=\"context\",\n",
    "    initial_response_name=\"prev_response\",\n",
    "    verbose=True\n",
    ")\n",
    "\n",
    "# Generate the summary\n",
    "summary_refine = chain.invoke(docs)\n",
    "print(summary_refine['output_text'])"
   ]
  },
  {
   "cell_type": "code",
   "execution_count": 33,
   "id": "1f5e754e-bf80-4597-91c4-1ada0769b7eb",
   "metadata": {
    "execution": {
     "iopub.execute_input": "2024-09-10T08:39:18.203029Z",
     "iopub.status.busy": "2024-09-10T08:39:18.201875Z",
     "iopub.status.idle": "2024-09-10T08:39:18.210892Z",
     "shell.execute_reply": "2024-09-10T08:39:18.209807Z",
     "shell.execute_reply.started": "2024-09-10T08:39:18.202984Z"
    }
   },
   "outputs": [
    {
     "data": {
      "text/markdown": [
       "# Summary of Lex Fridman Podcast Episode with Andrew Callaghan\n",
       "\n",
       "## The Main Arguments Presented\n",
       "- **Exploration of Extremes**: Callaghan emphasizes the importance of engaging with marginalized communities and fringe perspectives to understand diverse realities.\n",
       "- **Impact of Fame**: He discusses the dual nature of fame, describing it as both a blessing and a curse that can distort one's perception of reality.\n",
       "- **Mental Health and Substance Use**: Callaghan shares his experiences with hallucinogen persisting perception disorder (HPPD) and how it has influenced his mental health, leading to substance use as a coping mechanism.\n",
       "- **Value of Journalism**: He highlights journalism's role in connecting with different realities and amplifying voices often overlooked by mainstream media.\n",
       "- **Human Connection**: Callaghan reflects on the kindness he has encountered from marginalized individuals during his hitchhiking journeys, contrasting it with societal expectations.\n",
       "- **Cultural Commentary**: He discusses the influence of social media on public perception and the evolving landscape of journalism, particularly in relation to events like the January 6th insurrection and the rise of QAnon.\n",
       "- **Inherent Goodness of People**: Callaghan believes that most people are fundamentally good, motivated by self-interest but with positive intentions, and that misunderstandings arise from differing perspectives on achieving common goals.\n",
       "- **Listening as a Solution**: He advocates for listening to others as a means to heal misunderstandings and foster connection.\n",
       "\n",
       "## Notable Quotes from the Guest\n",
       "- \"Being a journalist gives you a ticket to everywhere that you want to go in life.\"\n",
       "- \"If you spend more than a hundred bucks on sunglasses, you've officially gone off the deep end.\"\n",
       "- \"The American public is just so kind overall. They're so embracing depending on who you are.\"\n",
       "- \"Breaking that shame cycle has to come first.\"\n",
       "- \"I didn't make journalism to become famous, I made it to give people a platform to share their stories.\"\n",
       "- \"Most people think they're doing the best thing for the world... I think generally good, but the energy to stand up for what's right, not sure about that.\"\n",
       "- \"Listening... is the only option we have.\"\n",
       "\n",
       "## Relevant Topics or Themes Covered\n",
       "- **Personal Journey**: Callaghan shares anecdotes from his hitchhiking experiences across the U.S., highlighting both humorous and challenging moments that shaped his worldview.\n",
       "- **Mental Health**: The discussion includes the complexities of living with HPPD and depersonalization disorder.\n",
       "- **Political Climate**: The episode addresses polarization during the COVID-19 pandemic, the January 6th insurrection, and Callaghan's experiences covering these events.\n",
       "- **QAnon and Conspiracy Theories**: He discusses the psychological effects of conspiracy beliefs and the rapid rise of QAnon.\n",
       "- **Fame and Its Consequences**: Callaghan reflects on how fame has changed his life, including the loss of anonymity and navigating new social dynamics.\n",
       "- **Challenges of Helping the Homeless**: He discusses the complexities surrounding homelessness and the need for deeper understanding and support.\n",
       "- **Local vs. National Politics**: Callaghan expresses a preference for focusing on local politics, emphasizing the tangible impact individuals can have in their communities compared to national elections.\n",
       "- **Accountability and Consent**: He addresses past allegations against him, discussing the importance of accountability and understanding power dynamics in relationships."
      ]
     },
     "metadata": {},
     "output_type": "display_data"
    }
   ],
   "source": [
    "from IPython.display import display_markdown\n",
    "display_markdown(summary_refine['output_text'], raw=True)"
   ]
  },
  {
   "cell_type": "code",
   "execution_count": 34,
   "id": "7ab35b14-49a8-481a-8dde-c881feec1113",
   "metadata": {
    "execution": {
     "iopub.execute_input": "2024-09-10T08:39:25.208168Z",
     "iopub.status.busy": "2024-09-10T08:39:25.207799Z",
     "iopub.status.idle": "2024-09-10T08:39:25.217448Z",
     "shell.execute_reply": "2024-09-10T08:39:25.216771Z",
     "shell.execute_reply.started": "2024-09-10T08:39:25.208144Z"
    }
   },
   "outputs": [],
   "source": [
    "save_string_to_file(summary_refine['output_text'], \"gpt4o-mini-refine.md\")"
   ]
  },
  {
   "cell_type": "markdown",
   "id": "5623c609-bf75-4348-9a8d-fe0eebe28a3e",
   "metadata": {},
   "source": [
    "## MapReduceDocumentsChain"
   ]
  },
  {
   "cell_type": "code",
   "execution_count": 10,
   "id": "3bac0d4e-2423-4ef0-ae02-3da007aba309",
   "metadata": {},
   "outputs": [
    {
     "name": "stdout",
     "output_type": "stream",
     "text": [
      "2\n"
     ]
    }
   ],
   "source": [
    "map_prompt = PromptTemplate.from_template(user_command + \"{context}\")\n",
    "map_chain = LLMChain(llm=llm, prompt=map_prompt)\n",
    "\n",
    "reduce_prompt = PromptTemplate.from_template(user_command + \"{context}\")\n",
    "reduce_chain = LLMChain(llm=llm, prompt=reduce_prompt)\n",
    "\n",
    "combine_documents_chain = StuffDocumentsChain(\n",
    "    llm_chain=reduce_chain,\n",
    "    document_variable_name=\"context\"\n",
    ")\n",
    "\n",
    "reduce_documents_chain = ReduceDocumentsChain(\n",
    "    combine_documents_chain=combine_documents_chain,\n",
    "    collapse_documents_chain=combine_documents_chain,\n",
    "    token_max=4000\n",
    ")\n",
    "\n",
    "chain = MapReduceDocumentsChain(\n",
    "    llm_chain=map_chain,\n",
    "    reduce_documents_chain=reduce_documents_chain,\n",
    "    document_variable_name=\"context\"\n",
    ")\n",
    "\n",
    "# Generate the summary\n",
    "summary_mapreduce = chain.invoke(docs)\n",
    "print(len(summary_mapreduce))"
   ]
  },
  {
   "cell_type": "code",
   "execution_count": 11,
   "id": "843e5378-c20f-4415-8239-1c699c48f2a9",
   "metadata": {},
   "outputs": [
    {
     "data": {
      "text/markdown": [
       "### Key Points Discussed\n",
       "\n",
       "1. **Main Arguments Presented:**\n",
       "   - **Journalism as a Therapeutic Mechanism:** Andrew Callaghan discusses how journalism has been a therapeutic outlet for him, especially in dealing with his Hallucinogen Persisting Perception Disorder (HPPD) and depersonalization.\n",
       "   - **Exploration of Extremes:** Callaghan emphasizes his interest in exploring the fringes of society, from QAnon adherents to residents of O-Block, and how these experiences validate his sense of reality.\n",
       "   - **Critique of Traditional Education:** Both Callaghan and Fridman critique the traditional education system, highlighting its rigidity and lack of engagement for students with specific interests.\n",
       "   - **Substance Use and Creativity:** The conversation touches on the role of substances like alcohol and drugs in creative processes, with Callaghan reflecting on his past substance use and its impact on his work.\n",
       "\n",
       "2. **Notable Quotes from the Guest:**\n",
       "   - \"Being a journalist gives you a ticket to everywhere that you want to go in life. It allows you to step into different realities almost and then go back to yours and it just keeps life interesting.\"\n",
       "   - \"I think fame getting to your head. If you spend more than a hundred bucks on sunglasses, you've officially gone off the deep end.\"\n",
       "   - \"The open road never goes anywhere, and it's kind of like, I see an invisible door in the corner of the room all the time. That makes me more comfortable because I'm like, 'Hey, at the end of the day, if I'm bummed out, I can go hit the road and I'm sure there's going to be a fun time ahead.'\"\n",
       "\n",
       "3. **Relevant Topics or Themes Covered:**\n",
       "   - **HPPD and Mental Health:** Callaghan's experience with HPPD and its psychological effects, including depersonalization and derealization.\n",
       "   - **Gonzo Journalism:** The influence of gonzo journalism and figures like Hunter S. Thompson on Callaghan's work.\n",
       "   - **Substance Use:** The discussion on the role of alcohol and drugs in creative processes and personal life.\n",
       "   - **Education System:** Critique of the traditional education system and the need for more engaging and interest-based learning.\n",
       "   - **Hitchhiking and Vagabonding:** Callaghan's hitchhiking journey across the United States and the insights gained from that experience.\n",
       "   - **Existential Reflections:** Reflections on the insignificance of human existence in the grand scheme of the universe, touching on topics like space and black holes.\n",
       "\n",
       "The episode provides a deep dive into Andrew Callaghan's unique perspective on journalism, mental health, and the human experience, enriched by his personal anecdotes and philosophical reflections."
      ]
     },
     "metadata": {},
     "output_type": "display_data"
    }
   ],
   "source": [
    "from IPython.display import display_markdown\n",
    "display_markdown(summary_mapreduce['output_text'], raw=True)"
   ]
  },
  {
   "cell_type": "code",
   "execution_count": 11,
   "id": "9feae675",
   "metadata": {},
   "outputs": [
    {
     "data": {
      "text/markdown": [
       "### Key Points Discussed\n",
       "\n",
       "1. **Main Arguments Presented:**\n",
       "   - **Journalism as a Therapeutic Mechanism:** Andrew Callaghan discusses how journalism has been a therapeutic outlet for him, especially in dealing with his Hallucinogen Persisting Perception Disorder (HPPD) and depersonalization.\n",
       "   - **Exploration of Extremes:** Callaghan emphasizes his interest in exploring the fringes of society, from QAnon adherents to residents of O-Block, and how these experiences validate his sense of reality.\n",
       "   - **Critique of Traditional Education:** Both Callaghan and Fridman critique the traditional education system, highlighting its rigidity and lack of engagement for students with specific interests.\n",
       "   - **Substance Use and Creativity:** The conversation touches on the role of substances like alcohol and drugs in creative processes, with Callaghan reflecting on his past substance use and its impact on his work.\n",
       "\n",
       "2. **Notable Quotes from the Guest:**\n",
       "   - \"Being a journalist gives you a ticket to everywhere that you want to go in life. It allows you to step into different realities almost and then go back to yours and it just keeps life interesting.\"\n",
       "   - \"I think fame getting to your head. If you spend more than a hundred bucks on sunglasses, you've officially gone off the deep end.\"\n",
       "   - \"The open road never goes anywhere, and it's kind of like, I see an invisible door in the corner of the room all the time. That makes me more comfortable because I'm like, 'Hey, at the end of the day, if I'm bummed out, I can go hit the road and I'm sure there's going to be a fun time ahead.'\"\n",
       "\n",
       "3. **Relevant Topics or Themes Covered:**\n",
       "   - **HPPD and Mental Health:** Callaghan's experience with HPPD and its psychological effects, including depersonalization and derealization.\n",
       "   - **Gonzo Journalism:** The influence of gonzo journalism and figures like Hunter S. Thompson on Callaghan's work.\n",
       "   - **Substance Use:** The discussion on the role of alcohol and drugs in creative processes and personal life.\n",
       "   - **Education System:** Critique of the traditional education system and the need for more engaging and interest-based learning.\n",
       "   - **Hitchhiking and Vagabonding:** Callaghan's hitchhiking journey across the United States and the insights gained from that experience.\n",
       "   - **Existential Reflections:** Reflections on the insignificance of human existence in the grand scheme of the universe, touching on topics like space and black holes.\n",
       "\n",
       "The episode provides a deep dive into Andrew Callaghan's unique perspective on journalism, mental health, and the human experience, enriched by his personal anecdotes and philosophical reflections."
      ]
     },
     "metadata": {},
     "output_type": "display_data"
    }
   ],
   "source": [
    "from IPython.display import display_markdown\n",
    "display_markdown(summary_mapreduce['output_text'], raw=True)"
   ]
  },
  {
   "cell_type": "code",
   "execution_count": 12,
   "id": "1cc5d945-c75c-4daf-86f6-1a9fba934aea",
   "metadata": {},
   "outputs": [],
   "source": [
    "save_string_to_file(summary_mapreduce['output_text'], \"gpt4o-mapreduce.md\")"
   ]
  }
 ],
 "metadata": {
  "kernelspec": {
   "display_name": "venv",
   "language": "python",
   "name": "venv"
  },
  "language_info": {
   "codemirror_mode": {
    "name": "ipython",
    "version": 3
   },
   "file_extension": ".py",
   "mimetype": "text/x-python",
   "name": "python",
   "nbconvert_exporter": "python",
   "pygments_lexer": "ipython3",
   "version": "3.12.4"
  }
 },
 "nbformat": 4,
 "nbformat_minor": 5
}
