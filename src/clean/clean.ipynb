{
 "cells": [
  {
   "cell_type": "code",
   "execution_count": 6,
   "id": "8d6326db-b384-47c3-9c96-9fe6c7ea2bd3",
   "metadata": {},
   "outputs": [
    {
     "name": "stdout",
     "output_type": "stream",
     "text": [
      "Requirement already satisfied: python-dotenv in /Users/jamie.wen/.pyenv/versions/3.12.4/lib/python3.12/site-packages (1.0.1)\n",
      "Requirement already satisfied: pandas in /Users/jamie.wen/.pyenv/versions/3.12.4/lib/python3.12/site-packages (2.2.2)\n",
      "Requirement already satisfied: numpy in /Users/jamie.wen/.pyenv/versions/3.12.4/lib/python3.12/site-packages (2.1.1)\n",
      "Requirement already satisfied: duckdb in /Users/jamie.wen/.pyenv/versions/3.12.4/lib/python3.12/site-packages (1.0.0)\n",
      "Requirement already satisfied: python-dateutil>=2.8.2 in /Users/jamie.wen/.pyenv/versions/3.12.4/lib/python3.12/site-packages (from pandas) (2.9.0.post0)\n",
      "Requirement already satisfied: pytz>=2020.1 in /Users/jamie.wen/.pyenv/versions/3.12.4/lib/python3.12/site-packages (from pandas) (2024.1)\n",
      "Requirement already satisfied: tzdata>=2022.7 in /Users/jamie.wen/.pyenv/versions/3.12.4/lib/python3.12/site-packages (from pandas) (2024.1)\n",
      "Requirement already satisfied: six>=1.5 in /Users/jamie.wen/.pyenv/versions/3.12.4/lib/python3.12/site-packages (from python-dateutil>=2.8.2->pandas) (1.16.0)\n"
     ]
    }
   ],
   "source": [
    "!pip3 install python-dotenv pandas numpy duckdb"
   ]
  },
  {
   "cell_type": "markdown",
   "id": "f1e5b70f-ca3a-4df2-96cc-1795dfe0a8b2",
   "metadata": {},
   "source": [
    "## install dependencies to Python interpreter that is currently runing the Jupyter kernal\n",
    "\n",
    "```python\n",
    "import sys\n",
    "!{sys.executable} -m pip install pandas\n",
    "\n",
    "# or\n",
    "\n",
    "%pip install pandas\n",
    "```"
   ]
  },
  {
   "cell_type": "code",
   "execution_count": 14,
   "id": "7efa1810-f7e3-4192-b0c6-e0c4bd31bd06",
   "metadata": {},
   "outputs": [
    {
     "name": "stdout",
     "output_type": "stream",
     "text": [
      "Requirement already satisfied: python-dotenv in /Users/jamie.wen/Documents/repos/lexnotes/src/venv/lib/python3.12/site-packages (1.0.1)\n",
      "Requirement already satisfied: pandas in /Users/jamie.wen/Documents/repos/lexnotes/src/venv/lib/python3.12/site-packages (2.2.2)\n",
      "Requirement already satisfied: numpy in /Users/jamie.wen/Documents/repos/lexnotes/src/venv/lib/python3.12/site-packages (2.1.1)\n",
      "Requirement already satisfied: duckdb in /Users/jamie.wen/Documents/repos/lexnotes/src/venv/lib/python3.12/site-packages (1.0.0)\n",
      "Requirement already satisfied: python-dateutil>=2.8.2 in /Users/jamie.wen/Documents/repos/lexnotes/src/venv/lib/python3.12/site-packages (from pandas) (2.9.0.post0)\n",
      "Requirement already satisfied: pytz>=2020.1 in /Users/jamie.wen/Documents/repos/lexnotes/src/venv/lib/python3.12/site-packages (from pandas) (2024.1)\n",
      "Requirement already satisfied: tzdata>=2022.7 in /Users/jamie.wen/Documents/repos/lexnotes/src/venv/lib/python3.12/site-packages (from pandas) (2024.1)\n",
      "Requirement already satisfied: six>=1.5 in /Users/jamie.wen/Documents/repos/lexnotes/src/venv/lib/python3.12/site-packages (from python-dateutil>=2.8.2->pandas) (1.16.0)\n",
      "\n",
      "\u001b[1m[\u001b[0m\u001b[34;49mnotice\u001b[0m\u001b[1;39;49m]\u001b[0m\u001b[39;49m A new release of pip is available: \u001b[0m\u001b[31;49m24.0\u001b[0m\u001b[39;49m -> \u001b[0m\u001b[32;49m24.2\u001b[0m\n",
      "\u001b[1m[\u001b[0m\u001b[34;49mnotice\u001b[0m\u001b[1;39;49m]\u001b[0m\u001b[39;49m To update, run: \u001b[0m\u001b[32;49mpython -m pip install --upgrade pip\u001b[0m\n",
      "Note: you may need to restart the kernel to use updated packages.\n"
     ]
    }
   ],
   "source": [
    "%pip install python-dotenv pandas numpy duckdb"
   ]
  },
  {
   "cell_type": "code",
   "execution_count": 24,
   "id": "e3fb03bc-602f-4ae1-af1e-2e8a8e54a140",
   "metadata": {},
   "outputs": [],
   "source": [
    "import pandas as pd\n",
    "import duckdb\n",
    "conn = duckdb.connect(':memory:')"
   ]
  },
  {
   "cell_type": "code",
   "execution_count": 27,
   "id": "2e9c2422-0801-46d6-a9bc-373b66fba6ad",
   "metadata": {},
   "outputs": [],
   "source": [
    "df1 = pd.read_csv('../raw/lexfridman.csv')\n",
    "df2 = pd.read_csv('../raw/transcripts.csv', usecols=['youtube','episode','transcript'])"
   ]
  },
  {
   "cell_type": "code",
   "execution_count": 28,
   "id": "f1e14e5f-779c-4d69-9c7a-ed1f604fed8a",
   "metadata": {},
   "outputs": [
    {
     "data": {
      "text/html": [
       "<div>\n",
       "<style scoped>\n",
       "    .dataframe tbody tr th:only-of-type {\n",
       "        vertical-align: middle;\n",
       "    }\n",
       "\n",
       "    .dataframe tbody tr th {\n",
       "        vertical-align: top;\n",
       "    }\n",
       "\n",
       "    .dataframe thead th {\n",
       "        text-align: right;\n",
       "    }\n",
       "</style>\n",
       "<table border=\"1\" class=\"dataframe\">\n",
       "  <thead>\n",
       "    <tr style=\"text-align: right;\">\n",
       "      <th></th>\n",
       "      <th>id</th>\n",
       "      <th>thumb</th>\n",
       "      <th>title</th>\n",
       "      <th>person</th>\n",
       "      <th>episode</th>\n",
       "      <th>youtube</th>\n",
       "      <th>transcript</th>\n",
       "    </tr>\n",
       "  </thead>\n",
       "  <tbody>\n",
       "    <tr>\n",
       "      <th>0</th>\n",
       "      <td>441</td>\n",
       "      <td>https://lexfridman.com/files/thumbs_ai_podcast...</td>\n",
       "      <td>Trump vs Harris, Progressive Politics, Communi...</td>\n",
       "      <td>Cenk Uygur</td>\n",
       "      <td>https://lexfridman.com/cenk-uygur</td>\n",
       "      <td>https://www.youtube.com/watch?v=QJtPROVsePk</td>\n",
       "      <td>https://lexfridman.com/cenk-uygur-transcript</td>\n",
       "    </tr>\n",
       "    <tr>\n",
       "      <th>1</th>\n",
       "      <td>440</td>\n",
       "      <td>https://lexfridman.com/files/thumbs_ai_podcast...</td>\n",
       "      <td>Programming, Viral AI Startups, and Digital No...</td>\n",
       "      <td>Pieter Levels</td>\n",
       "      <td>https://lexfridman.com/pieter-levels</td>\n",
       "      <td>https://www.youtube.com/watch?v=oFtjKbXKqbg</td>\n",
       "      <td>https://lexfridman.com/pieter-levels-transcript</td>\n",
       "    </tr>\n",
       "    <tr>\n",
       "      <th>2</th>\n",
       "      <td>439</td>\n",
       "      <td>https://lexfridman.com/files/thumbs_ai_podcast...</td>\n",
       "      <td>Jiu Jitsu, $2 Million Prize, CJI, ADCC, Ukrain...</td>\n",
       "      <td>Craig Jones</td>\n",
       "      <td>https://lexfridman.com/craig-jones-2</td>\n",
       "      <td>https://www.youtube.com/watch?v=J7aiEwp1x9k</td>\n",
       "      <td>https://lexfridman.com/craig-jones-2-transcript</td>\n",
       "    </tr>\n",
       "    <tr>\n",
       "      <th>3</th>\n",
       "      <td>438</td>\n",
       "      <td>https://lexfridman.com/files/thumbs_ai_podcast...</td>\n",
       "      <td>Neuralink and the Future of Humanity</td>\n",
       "      <td>Elon Musk and Neuralink Team</td>\n",
       "      <td>https://lexfridman.com/elon-musk-and-neuralink...</td>\n",
       "      <td>https://www.youtube.com/watch?v=Kbk9BiPhm7o</td>\n",
       "      <td>https://lexfridman.com/elon-musk-and-neuralink...</td>\n",
       "    </tr>\n",
       "    <tr>\n",
       "      <th>4</th>\n",
       "      <td>437</td>\n",
       "      <td>https://lexfridman.com/files/thumbs_ai_podcast...</td>\n",
       "      <td>Survival, Hunting, Siberia, God, and Winning A...</td>\n",
       "      <td>Jordan Jonas</td>\n",
       "      <td>https://lexfridman.com/jordan-jonas</td>\n",
       "      <td>https://www.youtube.com/watch?v=WA9gVKKPsBo</td>\n",
       "      <td>https://lexfridman.com/jordan-jonas-transcript</td>\n",
       "    </tr>\n",
       "  </tbody>\n",
       "</table>\n",
       "</div>"
      ],
      "text/plain": [
       "    id                                              thumb  \\\n",
       "0  441  https://lexfridman.com/files/thumbs_ai_podcast...   \n",
       "1  440  https://lexfridman.com/files/thumbs_ai_podcast...   \n",
       "2  439  https://lexfridman.com/files/thumbs_ai_podcast...   \n",
       "3  438  https://lexfridman.com/files/thumbs_ai_podcast...   \n",
       "4  437  https://lexfridman.com/files/thumbs_ai_podcast...   \n",
       "\n",
       "                                               title  \\\n",
       "0  Trump vs Harris, Progressive Politics, Communi...   \n",
       "1  Programming, Viral AI Startups, and Digital No...   \n",
       "2  Jiu Jitsu, $2 Million Prize, CJI, ADCC, Ukrain...   \n",
       "3               Neuralink and the Future of Humanity   \n",
       "4  Survival, Hunting, Siberia, God, and Winning A...   \n",
       "\n",
       "                         person  \\\n",
       "0                    Cenk Uygur   \n",
       "1                 Pieter Levels   \n",
       "2                   Craig Jones   \n",
       "3  Elon Musk and Neuralink Team   \n",
       "4                  Jordan Jonas   \n",
       "\n",
       "                                             episode  \\\n",
       "0                  https://lexfridman.com/cenk-uygur   \n",
       "1               https://lexfridman.com/pieter-levels   \n",
       "2               https://lexfridman.com/craig-jones-2   \n",
       "3  https://lexfridman.com/elon-musk-and-neuralink...   \n",
       "4                https://lexfridman.com/jordan-jonas   \n",
       "\n",
       "                                       youtube  \\\n",
       "0  https://www.youtube.com/watch?v=QJtPROVsePk   \n",
       "1  https://www.youtube.com/watch?v=oFtjKbXKqbg   \n",
       "2  https://www.youtube.com/watch?v=J7aiEwp1x9k   \n",
       "3  https://www.youtube.com/watch?v=Kbk9BiPhm7o   \n",
       "4  https://www.youtube.com/watch?v=WA9gVKKPsBo   \n",
       "\n",
       "                                          transcript  \n",
       "0       https://lexfridman.com/cenk-uygur-transcript  \n",
       "1    https://lexfridman.com/pieter-levels-transcript  \n",
       "2    https://lexfridman.com/craig-jones-2-transcript  \n",
       "3  https://lexfridman.com/elon-musk-and-neuralink...  \n",
       "4     https://lexfridman.com/jordan-jonas-transcript  "
      ]
     },
     "execution_count": 28,
     "metadata": {},
     "output_type": "execute_result"
    }
   ],
   "source": [
    "merged_df = pd.merge(df1, df2, on='episode')\n",
    "merged_df.head()"
   ]
  },
  {
   "cell_type": "code",
   "execution_count": 29,
   "id": "1ff8c00c-e80d-4d70-8365-3d7332836b5f",
   "metadata": {},
   "outputs": [],
   "source": [
    "merged_df.to_csv('./base.csv', index=False)"
   ]
  }
 ],
 "metadata": {
  "kernelspec": {
   "display_name": "venv",
   "language": "python",
   "name": "venv"
  },
  "language_info": {
   "codemirror_mode": {
    "name": "ipython",
    "version": 3
   },
   "file_extension": ".py",
   "mimetype": "text/x-python",
   "name": "python",
   "nbconvert_exporter": "python",
   "pygments_lexer": "ipython3",
   "version": "3.12.4"
  }
 },
 "nbformat": 4,
 "nbformat_minor": 5
}
